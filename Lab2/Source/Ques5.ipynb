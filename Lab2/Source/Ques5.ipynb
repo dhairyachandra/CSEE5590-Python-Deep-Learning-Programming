{
  "nbformat": 4,
  "nbformat_minor": 0,
  "metadata": {
    "colab": {
      "name": "Ques5.ipynb",
      "provenance": [],
      "mount_file_id": "1z-5WMMBqbiSEXoAfo-T3EwdC9NpUSnyU",
      "authorship_tag": "ABX9TyPJCh/8rvbLwi9JI+TfFNA6",
      "include_colab_link": true
    },
    "kernelspec": {
      "name": "python3",
      "display_name": "Python 3"
    },
    "accelerator": "GPU"
  },
  "cells": [
    {
      "cell_type": "markdown",
      "metadata": {
        "id": "view-in-github",
        "colab_type": "text"
      },
      "source": [
        "<a href=\"https://colab.research.google.com/github/dhairyachandra/CSEE5590-Python-Deep-Learning-Programming/blob/master/Lab2/Source/Ques5.ipynb\" target=\"_parent\"><img src=\"https://colab.research.google.com/assets/colab-badge.svg\" alt=\"Open In Colab\"/></a>"
      ]
    },
    {
      "cell_type": "code",
      "metadata": {
        "id": "UfPiZje162Q7",
        "colab_type": "code",
        "outputId": "d66e7bc7-8652-4315-fba1-faa16a286c2b",
        "colab": {
          "base_uri": "https://localhost:8080/",
          "height": 1000
        }
      },
      "source": [
        "import numpy as np\n",
        "import pandas as pd\n",
        "import nltk\n",
        "from nltk.tokenize import word_tokenize\n",
        "from nltk.stem import WordNetLemmatizer\n",
        "from bs4 import BeautifulSoup\n",
        "import re\n",
        "from keras.utils import to_categorical\n",
        "import random\n",
        "import tensorflow\n",
        "from sklearn.model_selection import train_test_split\n",
        "from keras.preprocessing import sequence\n",
        "from keras.preprocessing.text import Tokenizer\n",
        "from keras.layers import Dense,Dropout,Embedding,LSTM\n",
        "from keras.callbacks import EarlyStopping\n",
        "from keras.losses import categorical_crossentropy\n",
        "from keras.optimizers import Adam\n",
        "from keras.models import Sequential\n",
        "from tqdm import tqdm\n",
        "import matplotlib.pyplot as plt\n",
        "\n",
        "import warnings\n",
        "warnings.filterwarnings(\"ignore\", category=UserWarning, module='bs4')\n",
        "lemmatizer = WordNetLemmatizer()\n",
        "\n",
        "#set random seed for the session and also for tensorflow that runs in background for keras\n",
        "tensorflow.random.set_seed(123)\n",
        "random.seed(123)\n",
        "\n",
        "train= pd.read_csv(\"/content/drive/My Drive/UMKC/Colab Files/Task 4 - Data/train.tsv\", sep=\"\\t\")\n",
        "test = pd.read_csv(\"/content/drive/My Drive/UMKC/Colab Files/Task 4 - Data/test.tsv\", sep=\"\\t\")\n",
        "\n",
        "print(train.head())\n",
        "train.shape\n",
        "test.head()\n",
        "\n",
        "\n",
        "def clean_sentences(df):\n",
        "    reviews = []\n",
        "\n",
        "    for sent in tqdm(df['Phrase']):\n",
        "        # remove html content\n",
        "        review_text = BeautifulSoup(sent).get_text()\n",
        "\n",
        "        # remove non-alphabetic characters\n",
        "        review_text = re.sub(\"[^a-zA-Z]\", \" \", review_text)\n",
        "\n",
        "        # tokenize the sentences\n",
        "        words = word_tokenize(review_text.lower())\n",
        "\n",
        "        # lemmatize each word to its lemma\n",
        "        lemma_words = [lemmatizer.lemmatize(i) for i in words]\n",
        "\n",
        "        reviews.append(lemma_words)\n",
        "\n",
        "    return (reviews)\n",
        "\n",
        "\n",
        "# cleaned reviews for both train and test set retrieved\n",
        "train_sentences = clean_sentences(train)\n",
        "test_sentences = clean_sentences(test)\n",
        "print(len(train_sentences))\n",
        "print(len(test_sentences))\n",
        "\n",
        "target=train.Sentiment.values\n",
        "y_target=to_categorical(target)\n",
        "num_classes=y_target.shape[1]\n",
        "\n",
        "X_train,X_val,y_train,y_val=train_test_split(train_sentences,y_target,test_size=0.2,stratify=y_target)\n",
        "\n",
        "#It is needed for initializing tokenizer of keras and subsequent padding\n",
        "\n",
        "unique_words = set()\n",
        "len_max = 0\n",
        "\n",
        "for sent in tqdm(X_train):\n",
        "\n",
        "    unique_words.update(sent)\n",
        "\n",
        "    if (len_max < len(sent)):\n",
        "        len_max = len(sent)\n",
        "\n",
        "# length of the list of unique_words gives the no of unique words\n",
        "print(len(list(unique_words)))\n",
        "print(len_max)\n",
        "\n",
        "tokenizer = Tokenizer(num_words=len(list(unique_words)))\n",
        "tokenizer.fit_on_texts(list(X_train))\n",
        "X_train = tokenizer.texts_to_sequences(X_train)\n",
        "X_val = tokenizer.texts_to_sequences(X_val)\n",
        "X_test = tokenizer.texts_to_sequences(test_sentences)\n",
        "\n",
        "#padding done to equalize the lengths of all input reviews. LSTM networks needs all inputs to be same length.\n",
        "#Therefore reviews lesser than max length will be made equal using extra zeros at end. This is padding.\n",
        "X_train = sequence.pad_sequences(X_train, maxlen=len_max)\n",
        "X_val = sequence.pad_sequences(X_val, maxlen=len_max)\n",
        "X_test = sequence.pad_sequences(X_test, maxlen=len_max)\n",
        "print(X_train.shape,X_val.shape,X_test.shape)\n",
        "\n",
        "early_stopping = EarlyStopping(min_delta = 0.001, mode = 'max', monitor='val_acc', patience = 2)\n",
        "callback = [early_stopping]\n",
        "\n",
        "#Model using Keras LSTM\n",
        "model=Sequential()\n",
        "model.add(Embedding(len(list(unique_words)),300,input_length=len_max))\n",
        "model.add(LSTM(128,dropout=0.5, recurrent_dropout=0.5,return_sequences=True))\n",
        "model.add(LSTM(64,dropout=0.5, recurrent_dropout=0.5,return_sequences=False))\n",
        "model.add(Dense(100,activation='relu'))\n",
        "model.add(Dropout(0.5))\n",
        "model.add(Dense(num_classes,activation='softmax'))\n",
        "model.compile(loss='categorical_crossentropy',optimizer=Adam(lr=0.005),metrics=['accuracy'])\n",
        "model.summary()\n",
        "\n",
        "history = model.fit(X_train, y_train, validation_data=(X_val, y_val),epochs=10, batch_size=256, verbose=1, callbacks=callback)\n",
        "\n",
        "\n",
        "# Create count of the number of epochs\n",
        "epoch_count = range(1, len(history.history['loss']) + 1)\n",
        "\n",
        "# Visualize learning curve. Here learning curve is not ideal. It should be much smoother as it decreases.\n",
        "#As mentioned before, altering different hyper parameters especially learning rate can have a positive impact\n",
        "#on accuracy and learning curve.\n",
        "plt.plot(epoch_count, history.history['loss'], 'r--')\n",
        "plt.plot(epoch_count, history.history['val_loss'], 'b-')\n",
        "plt.legend(['Training Loss', 'Validation Loss'])\n",
        "plt.xlabel('Epoch')\n",
        "plt.ylabel('Loss')\n",
        "plt.show()"
      ],
      "execution_count": 14,
      "outputs": [
        {
          "output_type": "stream",
          "text": [
            "  0%|          | 310/156060 [00:00<00:50, 3099.76it/s]"
          ],
          "name": "stderr"
        },
        {
          "output_type": "stream",
          "text": [
            "   PhraseId  ...  Sentiment\n",
            "0         1  ...          1\n",
            "1         2  ...          2\n",
            "2         3  ...          2\n",
            "3         4  ...          2\n",
            "4         5  ...          2\n",
            "\n",
            "[5 rows x 4 columns]\n"
          ],
          "name": "stdout"
        },
        {
          "output_type": "stream",
          "text": [
            "100%|██████████| 156060/156060 [00:55<00:00, 2833.09it/s]\n",
            "100%|██████████| 66292/66292 [00:24<00:00, 2690.33it/s]\n"
          ],
          "name": "stderr"
        },
        {
          "output_type": "stream",
          "text": [
            "156060\n",
            "66292\n"
          ],
          "name": "stdout"
        },
        {
          "output_type": "stream",
          "text": [
            "100%|██████████| 124848/124848 [00:00<00:00, 694144.96it/s]\n"
          ],
          "name": "stderr"
        },
        {
          "output_type": "stream",
          "text": [
            "13733\n",
            "48\n",
            "(124848, 48) (31212, 48) (66292, 48)\n",
            "Model: \"sequential_2\"\n",
            "_________________________________________________________________\n",
            "Layer (type)                 Output Shape              Param #   \n",
            "=================================================================\n",
            "embedding_2 (Embedding)      (None, 48, 300)           4119900   \n",
            "_________________________________________________________________\n",
            "lstm_3 (LSTM)                (None, 48, 128)           219648    \n",
            "_________________________________________________________________\n",
            "lstm_4 (LSTM)                (None, 64)                49408     \n",
            "_________________________________________________________________\n",
            "dense_3 (Dense)              (None, 100)               6500      \n",
            "_________________________________________________________________\n",
            "dropout_2 (Dropout)          (None, 100)               0         \n",
            "_________________________________________________________________\n",
            "dense_4 (Dense)              (None, 5)                 505       \n",
            "=================================================================\n",
            "Total params: 4,395,961\n",
            "Trainable params: 4,395,961\n",
            "Non-trainable params: 0\n",
            "_________________________________________________________________\n"
          ],
          "name": "stdout"
        },
        {
          "output_type": "stream",
          "text": [
            "/usr/local/lib/python3.6/dist-packages/tensorflow/python/framework/indexed_slices.py:434: UserWarning: Converting sparse IndexedSlices to a dense Tensor of unknown shape. This may consume a large amount of memory.\n",
            "  \"Converting sparse IndexedSlices to a dense Tensor of unknown shape. \"\n"
          ],
          "name": "stderr"
        },
        {
          "output_type": "stream",
          "text": [
            "Train on 124848 samples, validate on 31212 samples\n",
            "Epoch 1/10\n",
            "124848/124848 [==============================] - 90s 721us/step - loss: 1.0320 - accuracy: 0.5850 - val_loss: 0.8620 - val_accuracy: 0.6430\n",
            "Epoch 2/10\n",
            "   256/124848 [..............................] - ETA: 1:27 - loss: 0.8090 - accuracy: 0.6953"
          ],
          "name": "stdout"
        },
        {
          "output_type": "stream",
          "text": [
            "/usr/local/lib/python3.6/dist-packages/keras/callbacks/callbacks.py:846: RuntimeWarning: Early stopping conditioned on metric `val_acc` which is not available. Available metrics are: val_loss,val_accuracy,loss,accuracy\n",
            "  (self.monitor, ','.join(list(logs.keys()))), RuntimeWarning\n"
          ],
          "name": "stderr"
        },
        {
          "output_type": "stream",
          "text": [
            "124848/124848 [==============================] - 90s 722us/step - loss: 0.8240 - accuracy: 0.6641 - val_loss: 0.8097 - val_accuracy: 0.6690\n",
            "Epoch 3/10\n",
            "124848/124848 [==============================] - 90s 722us/step - loss: 0.7565 - accuracy: 0.6878 - val_loss: 0.8139 - val_accuracy: 0.6710\n",
            "Epoch 4/10\n",
            "124848/124848 [==============================] - 91s 726us/step - loss: 0.7185 - accuracy: 0.7018 - val_loss: 0.8151 - val_accuracy: 0.6715\n",
            "Epoch 5/10\n",
            "124848/124848 [==============================] - 91s 730us/step - loss: 0.6941 - accuracy: 0.7103 - val_loss: 0.8304 - val_accuracy: 0.6757\n",
            "Epoch 6/10\n",
            "124848/124848 [==============================] - 90s 723us/step - loss: 0.6780 - accuracy: 0.7179 - val_loss: 0.8204 - val_accuracy: 0.6772\n",
            "Epoch 7/10\n",
            "124848/124848 [==============================] - 90s 719us/step - loss: 0.6630 - accuracy: 0.7233 - val_loss: 0.8391 - val_accuracy: 0.6726\n",
            "Epoch 8/10\n",
            "124848/124848 [==============================] - 90s 719us/step - loss: 0.6552 - accuracy: 0.7254 - val_loss: 0.8500 - val_accuracy: 0.6744\n",
            "Epoch 9/10\n",
            "124848/124848 [==============================] - 90s 721us/step - loss: 0.6485 - accuracy: 0.7291 - val_loss: 0.8789 - val_accuracy: 0.6728\n",
            "Epoch 10/10\n",
            "124848/124848 [==============================] - 90s 722us/step - loss: 0.6442 - accuracy: 0.7307 - val_loss: 0.8849 - val_accuracy: 0.6666\n"
          ],
          "name": "stdout"
        },
        {
          "output_type": "display_data",
          "data": {
            "image/png": "[encoded data removed]",
            "text/plain": [
              "<Figure size 432x288 with 1 Axes>"
            ]
          },
          "metadata": {
            "tags": [],
            "needs_background": "light"
          }
        }
      ]
    },
    {
      "cell_type": "code",
      "metadata": {
        "id": "ZJxDKu31bksU",
        "colab_type": "code",
        "colab": {}
      },
      "source": [
        ""
      ],
      "execution_count": 0,
      "outputs": []
    }
  ]
}