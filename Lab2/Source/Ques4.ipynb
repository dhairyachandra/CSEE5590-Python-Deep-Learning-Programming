{
  "nbformat": 4,
  "nbformat_minor": 0,
  "metadata": {
    "colab": {
      "name": "Task4.ipynb",
      "provenance": [],
      "mount_file_id": "https://github.com/dhairyachandra/CSEE5590-Python-Deep-Learning-Programming/blob/master/Lab2/Source/Ques4.ipynb",
      "authorship_tag": "ABX9TyO0vjwL1hZhtsrwsBFNG+A9",
      "include_colab_link": true
    },
    "kernelspec": {
      "name": "python3",
      "display_name": "Python 3"
    },
    "accelerator": "GPU"
  },
  "cells": [
    {
      "cell_type": "markdown",
      "metadata": {
        "id": "view-in-github",
        "colab_type": "text"
      },
      "source": [
        "<a href=\"https://colab.research.google.com/github/dhairyachandra/CSEE5590-Python-Deep-Learning-Programming/blob/master/Lab2/Source/Ques4.ipynb\" target=\"_parent\"><img src=\"https://colab.research.google.com/assets/colab-badge.svg\" alt=\"Open In Colab\"/></a>"
      ]
    },
    {
      "cell_type": "code",
      "metadata": {
        "id": "UfPiZje162Q7",
        "colab_type": "code",
        "outputId": "1164850a-7e05-4631-8f3d-193e9ca1bf24",
        "colab": {
          "base_uri": "https://localhost:8080/",
          "height": 1000
        }
      },
      "source": [
        "import numpy as np\n",
        "import pandas as pd\n",
        "import nltk\n",
        "nltk.download('punkt')\n",
        "nltk.download('wordnet')\n",
        "from nltk.tokenize import word_tokenize\n",
        "from nltk.stem import WordNetLemmatizer\n",
        "from bs4 import BeautifulSoup\n",
        "import re\n",
        "from keras.utils import to_categorical\n",
        "import random\n",
        "import tensorflow\n",
        "from sklearn.model_selection import train_test_split\n",
        "from keras.preprocessing import sequence\n",
        "from keras.preprocessing.text import Tokenizer\n",
        "from keras.layers import Dense,Dropout,Embedding,Conv1D,MaxPooling1D,Flatten\n",
        "from keras.callbacks import EarlyStopping\n",
        "from keras.losses import categorical_crossentropy\n",
        "from keras.optimizers import Adam\n",
        "from keras.models import Sequential\n",
        "from tqdm import tqdm\n",
        "import matplotlib.pyplot as plt\n",
        "\n",
        "import warnings\n",
        "warnings.filterwarnings(\"ignore\", category=UserWarning, module='bs4')\n",
        "lemmatizer = WordNetLemmatizer()\n",
        "\n",
        "#set random seed for the session and also for tensorflow that runs in background for keras\n",
        "tensorflow.random.set_seed(123)\n",
        "random.seed(123)\n",
        "\n",
        "train= pd.read_csv(\"/content/drive/My Drive/UMKC/Colab Files/Task 4 - Data/train.tsv\", sep=\"\\t\")\n",
        "test = pd.read_csv(\"/content/drive/My Drive/UMKC/Colab Files/Task 4 - Data/test.tsv\", sep=\"\\t\")\n",
        "\n",
        "print(train.head())\n",
        "train.shape\n",
        "test.head()\n",
        "\n",
        "\n",
        "def clean_sentences(df):\n",
        "    reviews = []\n",
        "\n",
        "    for sent in tqdm(df['Phrase']):\n",
        "        # remove html content\n",
        "        review_text = BeautifulSoup(sent).get_text()\n",
        "\n",
        "        # remove non-alphabetic characters\n",
        "        review_text = re.sub(\"[^a-zA-Z]\", \" \", review_text)\n",
        "\n",
        "        # tokenize the sentences\n",
        "        words = word_tokenize(review_text.lower())\n",
        "\n",
        "        # lemmatize each word to its lemma\n",
        "        lemma_words = [lemmatizer.lemmatize(i) for i in words]\n",
        "\n",
        "        reviews.append(lemma_words)\n",
        "\n",
        "    return (reviews)\n",
        "\n",
        "\n",
        "# cleaned reviews for both train and test set retrieved\n",
        "train_sentences = clean_sentences(train)\n",
        "test_sentences = clean_sentences(test)\n",
        "print(len(train_sentences))\n",
        "print(len(test_sentences))\n",
        "\n",
        "target=train.Sentiment.values\n",
        "y_target=to_categorical(target)\n",
        "num_classes=y_target.shape[1]\n",
        "\n",
        "X_train,X_val,y_train,y_val=train_test_split(train_sentences,y_target,test_size=0.2,stratify=y_target)\n",
        "\n",
        "#It is needed for initializing tokenizer of keras and subsequent padding\n",
        "\n",
        "unique_words = set()\n",
        "len_max = 0\n",
        "\n",
        "for sent in tqdm(X_train):\n",
        "\n",
        "    unique_words.update(sent)\n",
        "\n",
        "    if (len_max < len(sent)):\n",
        "        len_max = len(sent)\n",
        "\n",
        "# length of the list of unique_words gives the no of unique words\n",
        "print(len(list(unique_words)))\n",
        "print(len_max)\n",
        "\n",
        "tokenizer = Tokenizer(num_words=len(list(unique_words)))\n",
        "tokenizer.fit_on_texts(list(X_train))\n",
        "X_train = tokenizer.texts_to_sequences(X_train)\n",
        "X_val = tokenizer.texts_to_sequences(X_val)\n",
        "X_test = tokenizer.texts_to_sequences(test_sentences)\n",
        "\n",
        "#padding done to equalize the lengths of all input reviews. CNN networks needs all inputs to be same length.\n",
        "#Therefore reviews lesser than max length will be made equal using extra zeros at end. This is padding.\n",
        "X_train = sequence.pad_sequences(X_train, maxlen=len_max)\n",
        "X_val = sequence.pad_sequences(X_val, maxlen=len_max)\n",
        "X_test = sequence.pad_sequences(X_test, maxlen=len_max)\n",
        "print(X_train.shape,X_val.shape,X_test.shape)\n",
        "\n",
        "early_stopping = EarlyStopping(min_delta = 0.001, mode = 'max', monitor='val_acc', patience = 2)\n",
        "callback = [early_stopping]\n",
        "\n",
        "#Model using Keras CNN\n",
        "model=Sequential()\n",
        "model.add(Embedding(len(list(unique_words)),300,input_length=len_max))\n",
        "model.add(Conv1D(64,5,activation= 'tanh'))\n",
        "model.add(Dropout(0.5))\n",
        "model.add(Conv1D(64,5,activation= 'tanh'))\n",
        "model.add(Dropout(0.5))\n",
        "model.add(Dense(100,activation='relu'))\n",
        "model.add(Dropout(0.5))\n",
        "model.add(MaxPooling1D(pool_size=4))\n",
        "model.add(Flatten())\n",
        "model.add(Dense(num_classes,activation='softmax'))\n",
        "model.compile(loss='categorical_crossentropy',optimizer=Adam(lr=0.005),\n",
        "              metrics=['accuracy'])\n",
        "model.summary()\n",
        "\n",
        "history = model.fit(X_train, y_train, validation_data=(X_val, y_val),epochs=10, batch_size=256, verbose=1, callbacks=callback)\n",
        "\n",
        "\n",
        "# Create count of the number of epochs\n",
        "epoch_count = range(1, len(history.history['loss']) + 1)\n",
        "\n",
        "# Visualize learning curve.\n",
        "plt.plot(epoch_count, history.history['loss'], 'r--')\n",
        "plt.plot(epoch_count, history.history['val_loss'], 'b-')\n",
        "plt.legend(['Training Loss', 'Validation Loss'])\n",
        "plt.xlabel('Epoch')\n",
        "plt.ylabel('Loss')\n",
        "plt.show()"
      ],
      "execution_count": 4,
      "outputs": [
        {
          "output_type": "stream",
          "text": [
            "[nltk_data] Downloading package punkt to /root/nltk_data...\n",
            "[nltk_data]   Package punkt is already up-to-date!\n",
            "[nltk_data] Downloading package wordnet to /root/nltk_data...\n",
            "[nltk_data]   Package wordnet is already up-to-date!\n"
          ],
          "name": "stdout"
        },
        {
          "output_type": "stream",
          "text": [
            "  0%|          | 208/156060 [00:00<01:15, 2074.75it/s]"
          ],
          "name": "stderr"
        },
        {
          "output_type": "stream",
          "text": [
            "   PhraseId  ...  Sentiment\n",
            "0         1  ...          1\n",
            "1         2  ...          2\n",
            "2         3  ...          2\n",
            "3         4  ...          2\n",
            "4         5  ...          2\n",
            "\n",
            "[5 rows x 4 columns]\n"
          ],
          "name": "stdout"
        },
        {
          "output_type": "stream",
          "text": [
            "100%|██████████| 156060/156060 [01:18<00:00, 1985.11it/s]\n",
            "100%|██████████| 66292/66292 [00:32<00:00, 2045.67it/s]\n"
          ],
          "name": "stderr"
        },
        {
          "output_type": "stream",
          "text": [
            "156060\n",
            "66292\n"
          ],
          "name": "stdout"
        },
        {
          "output_type": "stream",
          "text": [
            "100%|██████████| 124848/124848 [00:00<00:00, 571930.56it/s]\n"
          ],
          "name": "stderr"
        },
        {
          "output_type": "stream",
          "text": [
            "13731\n",
            "48\n",
            "(124848, 48) (31212, 48) (66292, 48)\n",
            "Model: \"sequential_2\"\n",
            "_________________________________________________________________\n",
            "Layer (type)                 Output Shape              Param #   \n",
            "=================================================================\n",
            "embedding_2 (Embedding)      (None, 48, 300)           4119300   \n",
            "_________________________________________________________________\n",
            "conv1d_3 (Conv1D)            (None, 44, 64)            96064     \n",
            "_________________________________________________________________\n",
            "dropout_4 (Dropout)          (None, 44, 64)            0         \n",
            "_________________________________________________________________\n",
            "conv1d_4 (Conv1D)            (None, 40, 64)            20544     \n",
            "_________________________________________________________________\n",
            "dropout_5 (Dropout)          (None, 40, 64)            0         \n",
            "_________________________________________________________________\n",
            "dense_3 (Dense)              (None, 40, 100)           6500      \n",
            "_________________________________________________________________\n",
            "dropout_6 (Dropout)          (None, 40, 100)           0         \n",
            "_________________________________________________________________\n",
            "max_pooling1d_2 (MaxPooling1 (None, 10, 100)           0         \n",
            "_________________________________________________________________\n",
            "flatten_2 (Flatten)          (None, 1000)              0         \n",
            "_________________________________________________________________\n",
            "dense_4 (Dense)              (None, 5)                 5005      \n",
            "=================================================================\n",
            "Total params: 4,247,413\n",
            "Trainable params: 4,247,413\n",
            "Non-trainable params: 0\n",
            "_________________________________________________________________\n"
          ],
          "name": "stdout"
        },
        {
          "output_type": "stream",
          "text": [
            "/usr/local/lib/python3.6/dist-packages/tensorflow/python/framework/indexed_slices.py:434: UserWarning: Converting sparse IndexedSlices to a dense Tensor of unknown shape. This may consume a large amount of memory.\n",
            "  \"Converting sparse IndexedSlices to a dense Tensor of unknown shape. \"\n"
          ],
          "name": "stderr"
        },
        {
          "output_type": "stream",
          "text": [
            "Train on 124848 samples, validate on 31212 samples\n",
            "Epoch 1/10\n",
            "124848/124848 [==============================] - 6s 45us/step - loss: 1.0625 - accuracy: 0.5776 - val_loss: 0.9937 - val_accuracy: 0.6258\n",
            "Epoch 2/10\n",
            "  4864/124848 [>.............................] - ETA: 4s - loss: 0.8949 - accuracy: 0.6388"
          ],
          "name": "stdout"
        },
        {
          "output_type": "stream",
          "text": [
            "/usr/local/lib/python3.6/dist-packages/keras/callbacks/callbacks.py:846: RuntimeWarning: Early stopping conditioned on metric `val_acc` which is not available. Available metrics are: val_loss,val_accuracy,loss,accuracy\n",
            "  (self.monitor, ','.join(list(logs.keys()))), RuntimeWarning\n"
          ],
          "name": "stderr"
        },
        {
          "output_type": "stream",
          "text": [
            "124848/124848 [==============================] - 5s 42us/step - loss: 0.9097 - accuracy: 0.6322 - val_loss: 0.9385 - val_accuracy: 0.6388\n",
            "Epoch 3/10\n",
            "124848/124848 [==============================] - 5s 43us/step - loss: 0.8667 - accuracy: 0.6499 - val_loss: 0.9204 - val_accuracy: 0.6437\n",
            "Epoch 4/10\n",
            "124848/124848 [==============================] - 5s 43us/step - loss: 0.8465 - accuracy: 0.6562 - val_loss: 0.8998 - val_accuracy: 0.6460\n",
            "Epoch 5/10\n",
            "124848/124848 [==============================] - 5s 42us/step - loss: 0.8253 - accuracy: 0.6671 - val_loss: 0.8881 - val_accuracy: 0.6399\n",
            "Epoch 6/10\n",
            "124848/124848 [==============================] - 5s 42us/step - loss: 0.8185 - accuracy: 0.6700 - val_loss: 0.9076 - val_accuracy: 0.6279\n",
            "Epoch 7/10\n",
            "124848/124848 [==============================] - 5s 43us/step - loss: 0.8070 - accuracy: 0.6731 - val_loss: 0.8853 - val_accuracy: 0.6344\n",
            "Epoch 8/10\n",
            "124848/124848 [==============================] - 5s 43us/step - loss: 0.8009 - accuracy: 0.6755 - val_loss: 0.8896 - val_accuracy: 0.6424\n",
            "Epoch 9/10\n",
            "124848/124848 [==============================] - 5s 43us/step - loss: 0.7967 - accuracy: 0.6784 - val_loss: 0.8783 - val_accuracy: 0.6410\n",
            "Epoch 10/10\n",
            "124848/124848 [==============================] - 6s 45us/step - loss: 0.7960 - accuracy: 0.6782 - val_loss: 0.8840 - val_accuracy: 0.6350\n"
          ],
          "name": "stdout"
        },
        {
          "output_type": "display_data",
          "data": {
            "image/png": "[encoded data removed]",
            "text/plain": [
              "<Figure size 432x288 with 1 Axes>"
            ]
          },
          "metadata": {
            "tags": [],
            "needs_background": "light"
          }
        }
      ]
    }
  ]
}