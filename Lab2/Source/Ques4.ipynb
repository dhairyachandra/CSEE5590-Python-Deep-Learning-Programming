{
  "nbformat": 4,
  "nbformat_minor": 0,
  "metadata": {
    "colab": {
      "name": "Task4.ipynb",
      "provenance": [],
      "mount_file_id": "1z-5WMMBqbiSEXoAfo-T3EwdC9NpUSnyU",
      "authorship_tag": "ABX9TyPWc3w83HXpzNb3tIW8+Z3h",
      "include_colab_link": true
    },
    "kernelspec": {
      "name": "python3",
      "display_name": "Python 3"
    },
    "accelerator": "GPU"
  },
  "cells": [
    {
      "cell_type": "markdown",
      "metadata": {
        "id": "view-in-github",
        "colab_type": "text"
      },
      "source": [
        "<a href=\"https://colab.research.google.com/github/dhairyachandra/CSEE5590-Python-Deep-Learning-Programming/blob/master/Lab2/Source/Ques4.ipynb\" target=\"_parent\"><img src=\"https://colab.research.google.com/assets/colab-badge.svg\" alt=\"Open In Colab\"/></a>"
      ]
    },
    {
      "cell_type": "code",
      "metadata": {
        "id": "UfPiZje162Q7",
        "colab_type": "code",
        "outputId": "53fb7efd-3bb1-4d7f-826f-0526bd590d30",
        "colab": {
          "base_uri": "https://localhost:8080/",
          "height": 1000
        }
      },
      "source": [
        "from keras.layers import Dropout\n",
        "from keras.layers import Flatten\n",
        "import matplotlib.pyplot as plt\n",
        "from keras.constraints import maxnorm\n",
        "from keras.preprocessing.text import Tokenizer\n",
        "from keras.utils.np_utils import to_categorical\n",
        "from keras.preprocessing.sequence import pad_sequences\n",
        "from keras.models import Sequential\n",
        "from keras.layers import Dense, Embedding\n",
        "from keras.optimizers import SGD\n",
        "from keras.layers.convolutional import Conv1D\n",
        "from keras.layers.convolutional import MaxPooling1D\n",
        "from sklearn.preprocessing import LabelEncoder\n",
        "from sklearn.model_selection import train_test_split\n",
        "import re\n",
        "import pandas as pd\n",
        "\n",
        "# Load Train and Test Dataset\n",
        "\n",
        "trn_data = pd.read_csv('/content/drive/My Drive/UMKC/Colab Files/Task 4 - Data/train.csv')\n",
        "tst_data = pd.read_csv('/content/drive/My Drive/UMKC/Colab Files/Task 4 - Data/test.csv')\n",
        "train_data = trn_data[['phrase', 'sentiment']]\n",
        "\n",
        "\n",
        "train_data['phrase'] = train_data['phrase'].apply(lambda x: x.lower())\n",
        "train_data['phrase'] = train_data['phrase'].apply((lambda x: re.sub('[^a-zA-z0-9\\s]', '', x)))\n",
        "for idx, row in train_data.iterrows():\n",
        "    row[0] = row[0].replace('rt', ' ')\n",
        "max_fatures = 2000\n",
        "\n",
        "# Tokenizing\n",
        "\n",
        "toknzd_data = Tokenizer(num_words=max_fatures, split=' ')\n",
        "toknzd_data.fit_on_texts(train_data['phrase'].values)\n",
        "\n",
        "T = toknzd_data.texts_to_sequences(train_data['phrase'].values)\n",
        "print(T)\n",
        "T_fnl = pad_sequences(T)\n",
        "print(T_fnl)\n",
        "embed_dim = 128\n",
        "lstm_out = 196\n",
        "print(T_fnl.shape)\n",
        "\n",
        "# CNN Model\n",
        "\n",
        "def model_generate():\n",
        "    seq_model = Sequential()\n",
        "    seq_model.add(Embedding(max_fatures, embed_dim, input_length=T_fnl.shape[1]))\n",
        "    seq_model.add(\n",
        "        Conv1D(128, (5), activation='relu', kernel_constraint=maxnorm(3)))\n",
        "    seq_model.add(Dropout(0.2))\n",
        "    seq_model.add(Conv1D(128, (5), activation='relu', padding='same', kernel_constraint=maxnorm(3)))\n",
        "    seq_model.add(MaxPooling1D(5))\n",
        "    seq_model.add(Flatten())\n",
        "    seq_model.add(Dense(512, activation='relu', kernel_constraint=maxnorm(3)))\n",
        "    seq_model.add(Dropout(0.2))\n",
        "    seq_model.add(Dense(5, activation='softmax'))\n",
        "    return seq_model\n",
        "label__encoder = LabelEncoder()\n",
        "integer_encoded = label__encoder.fit_transform(train_data['sentiment'])\n",
        "y = to_categorical(integer_encoded)\n",
        "x_Train_data, x_Test_data, y_Train_data, y_Test_data = train_test_split(T_fnl, y, test_size=0.33, random_state=42)\n",
        "print(x_Train_data.shape, y_Train_data.shape)\n",
        "print(x_Test_data.shape, y_Test_data.shape)\n",
        "\n",
        "epochs = 15\n",
        "lrate = 0.01\n",
        "decay = lrate / epochs\n",
        "sequntl_model = model_generate()\n",
        "s_g_d = SGD(lr=lrate, momentum=0.9, decay=decay, nesterov=False)\n",
        "sequntl_model.compile(loss='categorical_crossentropy', optimizer=s_g_d, metrics=['accuracy'])\n",
        "btch_size = 32\n",
        "history = sequntl_model.fit(x_Train_data, y_Train_data, epochs=15, batch_size=btch_size, verbose=2)\n",
        "performance, accuracy = sequntl_model.evaluate(x_Test_data, y_Test_data, verbose=2, batch_size=btch_size)\n",
        "print(performance)\n",
        "print(accuracy)\n",
        "\n",
        "# Ploting Loss graph\n",
        "epoch__count = range(1, len(history.history['loss']) + 1)\n",
        "plt.plot(epoch__count, history.history['loss'], 'r--')\n",
        "plt.legend(['Training Loss', 'Validation Loss'])\n",
        "plt.xlabel('Epoch')\n",
        "plt.ylabel('Loss')\n",
        "plt.show()"
      ],
      "execution_count": 9,
      "outputs": [
        {
          "output_type": "stream",
          "text": [
            "IOPub data rate exceeded.\n",
            "The notebook server will temporarily stop sending output\n",
            "to the client in order to avoid crashing it.\n",
            "To change this limit, set the config variable\n",
            "`--NotebookApp.iopub_data_rate_limit`.\n",
            "\n",
            "Current values:\n",
            "NotebookApp.iopub_data_rate_limit=1000000.0 (bytes/sec)\n",
            "NotebookApp.rate_limit_window=3.0 (secs)\n",
            "\n"
          ],
          "name": "stderr"
        },
        {
          "output_type": "stream",
          "text": [
            "[[  0   0   0 ...   3   2  40]\n",
            " [  0   0   0 ...  49  13   1]\n",
            " [  0   0   0 ...   0   2 304]\n",
            " ...\n",
            " [  0   0   0 ...   0   0   0]\n",
            " [  0   0   0 ...   0   0   0]\n",
            " [  0   0   0 ...   0   0   0]]\n",
            "(156060, 45)\n",
            "(104560, 45) (104560, 5)\n",
            "(51500, 45) (51500, 5)\n",
            "Epoch 1/15\n",
            " - 11s - loss: 1.2310 - accuracy: 0.5146\n",
            "Epoch 2/15\n",
            " - 11s - loss: 1.2079 - accuracy: 0.5206\n",
            "Epoch 3/15\n",
            " - 11s - loss: 1.1822 - accuracy: 0.5314\n",
            "Epoch 4/15\n",
            " - 11s - loss: 1.1477 - accuracy: 0.5477\n",
            "Epoch 5/15\n",
            " - 11s - loss: 1.1201 - accuracy: 0.5624\n",
            "Epoch 6/15\n",
            " - 11s - loss: 1.1022 - accuracy: 0.5686\n",
            "Epoch 7/15\n",
            " - 11s - loss: 1.0897 - accuracy: 0.5753\n",
            "Epoch 8/15\n",
            " - 11s - loss: 1.0817 - accuracy: 0.5776\n",
            "Epoch 9/15\n",
            " - 11s - loss: 1.0745 - accuracy: 0.5800\n",
            "Epoch 10/15\n",
            " - 11s - loss: 1.0687 - accuracy: 0.5830\n",
            "Epoch 11/15\n",
            " - 11s - loss: 1.0630 - accuracy: 0.5857\n",
            "Epoch 12/15\n",
            " - 11s - loss: 1.0578 - accuracy: 0.5867\n",
            "Epoch 13/15\n",
            " - 11s - loss: 1.0522 - accuracy: 0.5891\n",
            "Epoch 14/15\n",
            " - 11s - loss: 1.0476 - accuracy: 0.5907\n",
            "Epoch 15/15\n",
            " - 11s - loss: 1.0422 - accuracy: 0.5925\n",
            "1.0576760508435443\n",
            "0.5876504778862\n"
          ],
          "name": "stdout"
        },
        {
          "output_type": "display_data",
          "data": {
            "image/png": "[encoded data removed]",
            "text/plain": [
              "<Figure size 432x288 with 1 Axes>"
            ]
          },
          "metadata": {
            "tags": [],
            "needs_background": "light"
          }
        }
      ]
    }
  ]
}